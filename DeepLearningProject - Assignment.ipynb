{
 "cells": [
  {
   "cell_type": "markdown",
   "metadata": {},
   "source": [
    "## Pet Classification Model Using CNN.\n",
    "\n",
    "Project 2 \n",
    "\n",
    "DESCRIPTION\n",
    "\n",
    "Build a CNN model that classifies the given pet images correctly into dog and cat images. \n",
    "    \n",
    "    \n",
    "   The project scope document specifies the requirements for the project “Pet Classification Model Using CNN.” Apart from specifying the functional and nonfunctional requirements for the project, it also serves as an input for project scoping.\n"
   ]
  },
  {
   "cell_type": "markdown",
   "metadata": {},
   "source": [
    "### Import modules"
   ]
  },
  {
   "cell_type": "code",
   "execution_count": 1,
   "metadata": {},
   "outputs": [
    {
     "name": "stderr",
     "output_type": "stream",
     "text": [
      "Using TensorFlow backend.\n"
     ]
    }
   ],
   "source": [
    "import pandas as pd\n",
    "import numpy as np\n",
    "import tensorflow as tf\n",
    "import keras\n",
    "import matplotlib.pyplot as plt\n",
    "import cv2\n",
    "import glob\n",
    "import os"
   ]
  },
  {
   "cell_type": "code",
   "execution_count": 2,
   "metadata": {},
   "outputs": [],
   "source": [
    "#Return a list of paths matching a pathname pattern."
   ]
  },
  {
   "cell_type": "code",
   "execution_count": 5,
   "metadata": {},
   "outputs": [],
   "source": [
    "def call(x,shape):\n",
    "    label = ['dogs','cats']\n",
    "    train=[]\n",
    "    test=[]\n",
    "    for i in x:\n",
    "        for j in label:\n",
    "            a=os.path.join(\"C:\\\\Users\\\\nilesh\\\\Desktop\\\\Master\\\\Deeplearning\\\\DL project 2\\\\data\\\\\"+i+\"\\\\\"+j+\"/*g\")\n",
    "            for g in glob.glob(a):\n",
    "                im = cv2.imread(g)\n",
    "                p = cv2.resize(im,(shape,shape), interpolation=cv2.INTER_CUBIC)\n",
    "                train.append(p)\n",
    "                if j==\"dogs\":\n",
    "                    test.append(0)\n",
    "                else:\n",
    "                    test.append(1)\n",
    "    return np.array(train),np.array(test)"
   ]
  },
  {
   "cell_type": "code",
   "execution_count": 6,
   "metadata": {},
   "outputs": [
    {
     "data": {
      "text/plain": [
       "(40, 32, 32, 3)"
      ]
     },
     "execution_count": 6,
     "metadata": {},
     "output_type": "execute_result"
    }
   ],
   "source": [
    "x_train , y_train = call([\"train\"],32)\n",
    "x_train.shape"
   ]
  },
  {
   "cell_type": "code",
   "execution_count": 7,
   "metadata": {},
   "outputs": [
    {
     "data": {
      "text/plain": [
       "<matplotlib.image.AxesImage at 0x162a1520eb8>"
      ]
     },
     "execution_count": 7,
     "metadata": {},
     "output_type": "execute_result"
    },
    {
     "data": {
      "image/png": "[encoded data removed]",
      "text/plain": [
       "<Figure size 432x288 with 1 Axes>"
      ]
     },
     "metadata": {
      "needs_background": "light"
     },
     "output_type": "display_data"
    }
   ],
   "source": [
    "x_test , y_test = call([\"test\"],32)\n",
    "plt.imshow(x_train[10])"
   ]
  },
  {
   "cell_type": "code",
   "execution_count": 8,
   "metadata": {},
   "outputs": [
    {
     "data": {
      "text/plain": [
       "<matplotlib.image.AxesImage at 0x162a15d30b8>"
      ]
     },
     "execution_count": 8,
     "metadata": {},
     "output_type": "execute_result"
    },
    {
     "data": {
      "image/png": "[encoded data removed]",
      "text/plain": [
       "<Figure size 432x288 with 1 Axes>"
      ]
     },
     "metadata": {
      "needs_background": "light"
     },
     "output_type": "display_data"
    }
   ],
   "source": [
    "plt.imshow(cv2.cvtColor(x_train[10],cv2.COLOR_BGR2RGB))"
   ]
  },
  {
   "cell_type": "markdown",
   "metadata": {},
   "source": [
    "input later\n",
    "\n",
    "conv layer 1 with 32 filters of kernel size[5,5],\n",
    "\n",
    "pooling layer 1 with pool size[2,2] and stride 2\n",
    "\n",
    "conv layer 2 with 64 filters of kernel size[5,5],\n",
    "\n",
    "pooling layer 2 with pool size[2,2] and stride 2\n",
    "\n",
    "dense layer whose output size is fixed in the hyper parameter: fc_size=32\n",
    "\n",
    "drop out layer with droput probability 0.4\n",
    "\n",
    "predict the class by doing a softmax on the output of the dropout layers"
   ]
  },
  {
   "cell_type": "code",
   "execution_count": 9,
   "metadata": {},
   "outputs": [],
   "source": []
  },
  {
   "cell_type": "code",
   "execution_count": 24,
   "metadata": {},
   "outputs": [],
   "source": [
    "tf.reset_default_graph()\n",
    "x = tf.placeholder(dtype=tf.float32)\n",
    "y = tf.placeholder(dtype = tf.int64)\n",
    "\n",
    "w1 = tf.Variable(initial_value = tf.random.normal(mean = 0 , stddev = 0.1 , shape = [5,5,3,32]) , dtype=tf.float32)\n",
    "b1 = tf.Variable(initial_value = np.zeros(32),dtype = tf.float32)\n",
    "c1 = tf.nn.relu(tf.nn.conv2d(input= x , filter = w1 , strides= [1,1,1,1] , padding = 'VALID')+b1)\n",
    "pool1 = tf.nn.max_pool(value = c1 , ksize=[1,2,2,1] , strides = [1,2,2,1], padding='VALID')\n",
    "\n",
    "\n",
    "w2 = tf.Variable(initial_value = tf.random.normal(mean= 0 , stddev = 0.1 , shape = [5,5,32,64]), dtype = tf.float32)\n",
    "b2 = tf.Variable(initial_value = np.zeros(64), dtype = tf.float32)\n",
    "c2 = tf.nn.relu(tf.nn.conv2d(input=pool1 , filter = w2 , strides = [1,1,1,1] , padding = 'VALID')+b2)\n",
    "pool2 = tf.nn.max_pool(value = c2, ksize=[1,2,2,1], strides = [1,2,2,1] , padding = 'VALID')\n",
    "\n",
    "f = tf.contrib.layers.flatten(pool2)\n",
    "\n",
    "w3 = tf.Variable(initial_value = tf.random.normal(mean=0 , stddev = 0.1 , shape=[1600,32]))\n",
    "b3 = tf.Variable(initial_value = np.zeros(32), dtype = tf.float32 )\n",
    "h1 = tf.nn.relu(tf.matmul(f,w3)+b3)\n",
    "y1 = tf.layers.dropout(h1, rate= 0.4)\n",
    "\n",
    "w4 = tf.Variable(initial_value = tf.random.normal(mean=0 , stddev = 0.1 , shape=[32,2]))\n",
    "b4 = tf.Variable(initial_value = np.zeros(2), dtype = tf.float32 )\n",
    "y_o = tf.matmul(y1,w4)+b4\n",
    "#y_o = tf.nn.softmax(tf.matmul(y1,w4)+b4)"
   ]
  },
  {
   "cell_type": "code",
   "execution_count": 25,
   "metadata": {},
   "outputs": [],
   "source": [
    "loss = tf.nn.sparse_softmax_cross_entropy_with_logits(labels= y , logits = y_o)\n",
    "optimizer = tf.train.AdamOptimizer(learning_rate = 0.001)\n",
    "trainer = optimizer.minimize(loss)\n",
    "\n",
    "# acc1 = tf.equal(tf.argmax(y_o,1),y)\n",
    "\n",
    "# acc = tf.reduce_mean(tf.cast(acc1 , dtype = tf.float32))\n",
    "acc1 = tf.equal(tf.argmax(y_o,1),y)\n",
    "accuracy = tf.reduce_mean(tf.cast(acc1, dtype = tf.float32))"
   ]
  },
  {
   "cell_type": "code",
   "execution_count": 26,
   "metadata": {
    "scrolled": false
   },
   "outputs": [
    {
     "name": "stdout",
     "output_type": "stream",
     "text": [
      "loss = 1.03 , train acc = 0.525000 , test acc = 0.500000 \n",
      "loss = 0.88 , train acc = 0.525000 , test acc = 0.500000 \n",
      "loss = 0.62 , train acc = 0.650000 , test acc = 0.350000 \n",
      "loss = 0.67 , train acc = 0.550000 , test acc = 0.450000 \n",
      "loss = 0.70 , train acc = 0.575000 , test acc = 0.450000 \n",
      "loss = 0.60 , train acc = 0.625000 , test acc = 0.500000 \n",
      "loss = 0.52 , train acc = 0.800000 , test acc = 0.400000 \n",
      "loss = 0.53 , train acc = 0.700000 , test acc = 0.400000 \n",
      "loss = 0.55 , train acc = 0.650000 , test acc = 0.500000 \n",
      "loss = 0.51 , train acc = 0.750000 , test acc = 0.450000 \n",
      "loss = 0.46 , train acc = 0.850000 , test acc = 0.300000 \n",
      "loss = 0.44 , train acc = 0.950000 , test acc = 0.350000 \n",
      "loss = 0.43 , train acc = 0.900000 , test acc = 0.500000 \n",
      "loss = 0.43 , train acc = 0.875000 , test acc = 0.400000 \n",
      "loss = 0.41 , train acc = 0.900000 , test acc = 0.450000 \n",
      "loss = 0.37 , train acc = 0.950000 , test acc = 0.400000 \n",
      "loss = 0.34 , train acc = 1.000000 , test acc = 0.400000 \n",
      "loss = 0.34 , train acc = 0.975000 , test acc = 0.350000 \n",
      "loss = 0.33 , train acc = 0.950000 , test acc = 0.450000 \n",
      "loss = 0.30 , train acc = 0.975000 , test acc = 0.400000 \n",
      "loss = 0.28 , train acc = 1.000000 , test acc = 0.400000 \n",
      "loss = 0.26 , train acc = 1.000000 , test acc = 0.400000 \n",
      "loss = 0.26 , train acc = 1.000000 , test acc = 0.450000 \n",
      "loss = 0.24 , train acc = 1.000000 , test acc = 0.450000 \n",
      "loss = 0.22 , train acc = 1.000000 , test acc = 0.400000 \n",
      "loss = 0.21 , train acc = 1.000000 , test acc = 0.450000 \n",
      "loss = 0.20 , train acc = 1.000000 , test acc = 0.500000 \n",
      "loss = 0.19 , train acc = 1.000000 , test acc = 0.500000 \n",
      "loss = 0.17 , train acc = 1.000000 , test acc = 0.450000 \n",
      "loss = 0.16 , train acc = 1.000000 , test acc = 0.550000 \n"
     ]
    }
   ],
   "source": [
    "sess = tf.Session()\n",
    "sess.run(tf.global_variables_initializer())\n",
    "for i in range(30):\n",
    "    t = sess.run([trainer], feed_dict = {x:x_train/255 , y:y_train})\n",
    "    l = sess.run([loss], feed_dict = {x:x_train/255 , y:y_train})\n",
    "    at = sess.run(accuracy, feed_dict = {x:x_train/255 , y:y_train})\n",
    "    ac = sess.run(accuracy, feed_dict = {x:x_test/255 , y:y_test})\n",
    "    print(\"loss = %0.2f , train acc = %f , test acc = %f \"%(np.mean(l),at,ac))"
   ]
  },
  {
   "cell_type": "code",
   "execution_count": 27,
   "metadata": {},
   "outputs": [
    {
     "data": {
      "text/plain": [
       "0.55"
      ]
     },
     "execution_count": 27,
     "metadata": {},
     "output_type": "execute_result"
    }
   ],
   "source": [
    "x_train_result = sess.run(y_o , feed_dict={x:x_test})\n",
    "x_train_lenth = x_train_result.shape[0]\n",
    "np.sum(np.argmax(x_train_result,axis=1)==y_test)/ x_train_lenth"
   ]
  }
 ],
 "metadata": {
  "kernelspec": {
   "display_name": "Python 3",
   "language": "python",
   "name": "python3"
  },
  "language_info": {
   "codemirror_mode": {
    "name": "ipython",
    "version": 3
   },
   "file_extension": ".py",
   "mimetype": "text/x-python",
   "name": "python",
   "nbconvert_exporter": "python",
   "pygments_lexer": "ipython3",
   "version": "3.6.9"
  }
 },
 "nbformat": 4,
 "nbformat_minor": 2
}
