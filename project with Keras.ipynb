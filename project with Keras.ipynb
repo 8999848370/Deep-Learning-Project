{
 "cells": [
  {
   "cell_type": "markdown",
   "metadata": {},
   "source": [
    "## Pet Classification Model Using CNN.\n",
    "\n",
    "Project 2 \n",
    "\n",
    "DESCRIPTION\n",
    "\n",
    "Build a CNN model that classifies the given pet images correctly into dog and cat images. \n",
    "    \n",
    "    \n",
    "   The project scope document specifies the requirements for the project “Pet Classification Model Using CNN.” Apart from specifying the functional and nonfunctional requirements for the project, it also serves as an input for project scoping.\n"
   ]
  },
  {
   "cell_type": "code",
   "execution_count": 1,
   "metadata": {},
   "outputs": [
    {
     "name": "stderr",
     "output_type": "stream",
     "text": [
      "Using TensorFlow backend.\n"
     ]
    }
   ],
   "source": [
    "import pandas as pd\n",
    "import numpy as np\n",
    "import matplotlib.pyplot as plt\n",
    "import tensorflow as tf\n",
    "import keras\n",
    "import os\n",
    "import glob\n",
    "from keras import backend as k\n",
    "from keras.layers import Conv2D, MaxPool2D, Flatten, Dense, Dropout\n",
    "from keras.optimizers import Adam \n",
    "from keras.models import Sequential\n",
    "from keras.metrics import sparse_categorical_crossentropy\n",
    "import cv2\n",
    "from keras.callbacks import EarlyStopping"
   ]
  },
  {
   "cell_type": "code",
   "execution_count": 2,
   "metadata": {},
   "outputs": [],
   "source": [
    "path = [\"train\",\"test\"]\n",
    "dar = [\"dogs\",'cats']"
   ]
  },
  {
   "cell_type": "code",
   "execution_count": 29,
   "metadata": {},
   "outputs": [],
   "source": [
    "def read(x,size):\n",
    "    train =[]\n",
    "\n",
    "    test = []\n",
    "\n",
    "    for i in x:\n",
    "        for j in dar:\n",
    "            a1 = os.path.join(\"C:\\\\Users\\\\nilesh\\\\Desktop\\\\Master\\\\Deeplearning\\\\DL project 2\\\\data\\\\\"+i+\"\\\\\"+j+\"/*g\")\n",
    "            for img in glob.glob(a1):\n",
    "                image = cv2.imread(img)\n",
    "                im_resize = cv2.resize(image,(size,size), interpolation=cv2.INTER_CUBIC)\n",
    "                train.append(im_resize)\n",
    "                if j==\"dogs\":\n",
    "                    test.append(0)\n",
    "                else:\n",
    "                    test.append(1)\n",
    "    return np.array(train) , np.array(test)"
   ]
  },
  {
   "cell_type": "code",
   "execution_count": 30,
   "metadata": {},
   "outputs": [],
   "source": [
    "x_train , y_train = read([\"train\"],28)\n",
    "x_test , y_test = read([\"test\"],28)"
   ]
  },
  {
   "cell_type": "code",
   "execution_count": 31,
   "metadata": {},
   "outputs": [
    {
     "data": {
      "text/plain": [
       "<matplotlib.image.AxesImage at 0x2218e6cc0f0>"
      ]
     },
     "execution_count": 31,
     "metadata": {},
     "output_type": "execute_result"
    },
    {
     "data": {
      "image/png": "[encoded data removed]",
      "text/plain": [
       "<Figure size 432x288 with 1 Axes>"
      ]
     },
     "metadata": {
      "needs_background": "light"
     },
     "output_type": "display_data"
    }
   ],
   "source": [
    "plt.imshow(x_train[0,:])"
   ]
  },
  {
   "cell_type": "markdown",
   "metadata": {},
   "source": [
    "Assignment: Define the tensorflow model The model should have the following layers input later\n",
    "conv layer 1 with 32 filters of kernel size[5,5],\n",
    "\n",
    "pooling layer 1 with pool size[2,2] and stride 2\n",
    "\n",
    "conv layer 2 with 64 filters of kernel size[5,5],\n",
    "\n",
    "pooling layer 2 with pool size[2,2] and stride 2\n",
    "\n",
    "dense layer whose output size is fixed in the hyper parameter: fc_size=32\n",
    "\n",
    "drop out layer with droput probability 0.4\n",
    "\n",
    "predict the class by doing a softmax on the output of the dropout layers Training\n",
    "For training fefine the loss function and minimize it For evaluation calculate the accuracy Reading Material\n",
    "For ideas look at tensorflow layers tutorial"
   ]
  },
  {
   "cell_type": "code",
   "execution_count": 163,
   "metadata": {},
   "outputs": [
    {
     "name": "stdout",
     "output_type": "stream",
     "text": [
      "Model: \"sequential_22\"\n",
      "_________________________________________________________________\n",
      "Layer (type)                 Output Shape              Param #   \n",
      "=================================================================\n",
      "conv2d_43 (Conv2D)           (None, 24, 24, 32)        2432      \n",
      "_________________________________________________________________\n",
      "max_pooling2d_43 (MaxPooling (None, 12, 12, 32)        0         \n",
      "_________________________________________________________________\n",
      "conv2d_44 (Conv2D)           (None, 8, 8, 64)          51264     \n",
      "_________________________________________________________________\n",
      "max_pooling2d_44 (MaxPooling (None, 4, 4, 64)          0         \n",
      "_________________________________________________________________\n",
      "flatten_22 (Flatten)         (None, 1024)              0         \n",
      "_________________________________________________________________\n",
      "dense_43 (Dense)             (None, 32)                32800     \n",
      "_________________________________________________________________\n",
      "dropout_22 (Dropout)         (None, 32)                0         \n",
      "_________________________________________________________________\n",
      "dense_44 (Dense)             (None, 2)                 66        \n",
      "=================================================================\n",
      "Total params: 86,562\n",
      "Trainable params: 86,562\n",
      "Non-trainable params: 0\n",
      "_________________________________________________________________\n"
     ]
    }
   ],
   "source": [
    "model = Sequential()\n",
    "model.add(Conv2D(filters=32, kernel_size=(5,5), strides=(1, 1), activation='relu',input_shape=(28,28,3)))\n",
    "model.add(MaxPool2D(pool_size=(2,2) , strides=(2, 2),padding = \"SAME\"))\n",
    "model.add(Conv2D(filters=64, kernel_size=(5,5), activation='relu'))\n",
    "model.add(MaxPool2D(pool_size=(2,2) , strides=(2, 2),padding = \"SAME\"))\n",
    "model.add(Flatten())\n",
    "model.add(Dense(32, activation='relu'))\n",
    "model.add(Dropout(0.4))\n",
    "model.add(Dense(2, activation='softmax'))\n",
    "model.summary()"
   ]
  },
  {
   "cell_type": "code",
   "execution_count": 164,
   "metadata": {},
   "outputs": [],
   "source": [
    "call = [EarlyStopping(monitor = \"val_accuracy\", patience = 2 ,  mode=\"max\")]"
   ]
  },
  {
   "cell_type": "code",
   "execution_count": 165,
   "metadata": {},
   "outputs": [],
   "source": [
    "model.compile(Adam(lr=0.001), loss = \"sparse_categorical_crossentropy\" , \n",
    "              metrics = [\"accuracy\"])"
   ]
  },
  {
   "cell_type": "code",
   "execution_count": 172,
   "metadata": {},
   "outputs": [
    {
     "name": "stdout",
     "output_type": "stream",
     "text": [
      "Train on 40 samples, validate on 20 samples\n",
      "Epoch 1/30\n",
      " - 0s - loss: 0.0099 - accuracy: 1.0000 - val_loss: 1.8227 - val_accuracy: 0.5000\n",
      "Epoch 2/30\n",
      " - 0s - loss: 0.0238 - accuracy: 1.0000 - val_loss: 1.7371 - val_accuracy: 0.5500\n",
      "Epoch 3/30\n",
      " - 0s - loss: 0.0477 - accuracy: 0.9750 - val_loss: 1.4918 - val_accuracy: 0.6500\n",
      "Epoch 4/30\n",
      " - 0s - loss: 0.0071 - accuracy: 1.0000 - val_loss: 1.8156 - val_accuracy: 0.7500\n",
      "Epoch 5/30\n",
      " - 0s - loss: 6.9335e-04 - accuracy: 1.0000 - val_loss: 1.8394 - val_accuracy: 0.7500\n",
      "Epoch 6/30\n",
      " - 0s - loss: 0.0072 - accuracy: 1.0000 - val_loss: 1.8830 - val_accuracy: 0.5500\n"
     ]
    },
    {
     "data": {
      "text/plain": [
       "<keras.callbacks.callbacks.History at 0x221b16d6c50>"
      ]
     },
     "execution_count": 172,
     "metadata": {},
     "output_type": "execute_result"
    }
   ],
   "source": [
    "model.fit(x_train/255., y_train, \n",
    "          validation_data=(x_test/255., y_test),\n",
    "          epochs=30, callbacks=call,\n",
    "          batch_size=1,\n",
    "          verbose = 2)"
   ]
  },
  {
   "cell_type": "code",
   "execution_count": 173,
   "metadata": {},
   "outputs": [
    {
     "data": {
      "text/plain": [
       "array([[5, 5],\n",
       "       [4, 6]], dtype=int64)"
      ]
     },
     "execution_count": 173,
     "metadata": {},
     "output_type": "execute_result"
    }
   ],
   "source": [
    "from sklearn.metrics import confusion_matrix\n",
    "confusion_matrix(y_test,model.predict_classes(x_test/255))"
   ]
  },
  {
   "cell_type": "code",
   "execution_count": 174,
   "metadata": {},
   "outputs": [
    {
     "data": {
      "text/plain": [
       "array([[20,  0],\n",
       "       [ 0, 20]], dtype=int64)"
      ]
     },
     "execution_count": 174,
     "metadata": {},
     "output_type": "execute_result"
    }
   ],
   "source": [
    "confusion_matrix(y_train,model.predict_classes(x_train/255))"
   ]
  }
 ],
 "metadata": {
  "kernelspec": {
   "display_name": "Python 3",
   "language": "python",
   "name": "python3"
  },
  "language_info": {
   "codemirror_mode": {
    "name": "ipython",
    "version": 3
   },
   "file_extension": ".py",
   "mimetype": "text/x-python",
   "name": "python",
   "nbconvert_exporter": "python",
   "pygments_lexer": "ipython3",
   "version": "3.6.9"
  }
 },
 "nbformat": 4,
 "nbformat_minor": 2
}
